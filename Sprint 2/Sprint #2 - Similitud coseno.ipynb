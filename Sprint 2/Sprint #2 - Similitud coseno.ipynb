{
 "cells": [
  {
   "cell_type": "code",
   "execution_count": 9,
   "id": "15305ca7",
   "metadata": {
    "scrolled": true
   },
   "outputs": [
    {
     "data": {
      "application/vnd.jupyter.widget-view+json": {
       "model_id": "3a2a531b91194500af20ec001a44e061",
       "version_major": 2,
       "version_minor": 0
      },
      "text/plain": [
       "VBox(children=(Dropdown(description='Persona 1:', options=(1, 2, 3, 4, 5, 6, 7, 8, 9, 10, 11, 12, 13, 14, 15, …"
      ]
     },
     "execution_count": 9,
     "metadata": {},
     "output_type": "execute_result"
    }
   ],
   "source": [
    "#Importamos la libreria / datos necesarios \n",
    "import pandas as pd\n",
    "from sklearn.preprocessing import MinMaxScaler\n",
    "from sklearn.metrics.pairwise import cosine_similarity\n",
    "import ipywidgets as widgets\n",
    "\n",
    "data = pd.read_csv('DataSTI.csv')\n",
    "\n",
    "#Definimos las columnas de interes y convertimos la variable cualitativva en cuantitativa\n",
    "columns_of_interest = ['Edad', '# De hermanos', 'Deportes practicados', '# De creditos cursando', 'Calidad de sueño', '# De estrato']\n",
    "\n",
    "data['Calidad de sueño'] = data['Calidad de sueño'].map({'Mala': 0, 'Regular': 1, 'Buena': 2})\n",
    "\n",
    "#Normalizamos las columnas seleccionadas en un rango de 0 a 1\n",
    "scaler = MinMaxScaler()\n",
    "data_normalized = scaler.fit_transform(data[columns_of_interest])\n",
    "\n",
    "#Creamos la interfaz\n",
    "dropdown_id1 = widgets.Dropdown(options=data['id'], description='Persona 1:')\n",
    "dropdown_id2 = widgets.Dropdown(options=data['id'], description='Persona 2:')\n",
    "button_execute = widgets.Button(description='Ejecutar')\n",
    "output_result = widgets.Output()\n",
    "\n",
    "#Calculamos la similitud\n",
    "def calculate_similarity(_):\n",
    "    id1 = dropdown_id1.value\n",
    "    id2 = dropdown_id2.value\n",
    "    \n",
    "    vec1 = data_normalized[data['id'] == id1]\n",
    "    vec2 = data_normalized[data['id'] == id2]\n",
    "    \n",
    "    similarity = cosine_similarity(vec1, vec2)[0][0]\n",
    "    \n",
    "    with output_result:\n",
    "        output_result.clear_output()\n",
    "        print(f\"Similitud coseno entre la persona {id1} y persona {id2} es de: {similarity}\")\n",
    "\n",
    "button_execute.on_click(calculate_similarity)\n",
    "\n",
    "#Mostramos la interfaz\n",
    "widgets.VBox([dropdown_id1, dropdown_id2, button_execute, output_result])"
   ]
  },
  {
   "cell_type": "code",
   "execution_count": null,
   "id": "fc7e7166",
   "metadata": {},
   "outputs": [],
   "source": []
  }
 ],
 "metadata": {
  "kernelspec": {
   "display_name": "Python 3 (ipykernel)",
   "language": "python",
   "name": "python3"
  },
  "language_info": {
   "codemirror_mode": {
    "name": "ipython",
    "version": 3
   },
   "file_extension": ".py",
   "mimetype": "text/x-python",
   "name": "python",
   "nbconvert_exporter": "python",
   "pygments_lexer": "ipython3",
   "version": "3.11.5"
  }
 },
 "nbformat": 4,
 "nbformat_minor": 5
}
